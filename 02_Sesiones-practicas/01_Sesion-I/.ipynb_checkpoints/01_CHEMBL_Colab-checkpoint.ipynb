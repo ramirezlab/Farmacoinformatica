{
 "cells": [
  {
   "cell_type": "markdown",
   "metadata": {},
   "source": [
    "[![Open In Colab](https://colab.research.google.com/assets/colab-badge.svg)](https://colab.research.google.com/github/ramirezlab/Farmacoinformatica-2022/blob/main/02_Sesiones-practicas/01_Sesion-I/01_CHEMBL_Colab.ipynb)"
   ]
  },
  {
   "cell_type": "markdown",
   "metadata": {},
   "source": [
    "# Práctica 1: Adquirir y analizar datos de ChEMBL\n",
    "\n",
    "## Conceptos a trabajar\n",
    "**[Uniprot](https://www.uniprot.org/):** Es una base de datos que busca proporcionar a la comunidad científica un recurso integral, de alta calidad y de libre acceso de secuencias de proteínas e información funcional<sup> **1** </sup>.\n",
    "\n",
    "**[ChEMBL](https://www.ebi.ac.uk/chembl/):** Es una base de datos que contiene moléculas bioactivas, reune datos químicos, de bioactividad y genómicos<sup> **2** </sup>.\n",
    "\n",
    "**Half-maximal inhibitory concentration (IC50):** Expresa la cantidad de fármaco necesaria para inhibir un proceso biológico a la mitad del valor no inhibido, es la medida más utilizada de la eficacia o potencia de un fármaco<sup> **3** </sup>.\n",
    "\n",
    "**pIC50:** Es el logaritmo negativo en base diez del IC50, cuando las unidades son **molares (M)**. Se usa para facilitar la comparación entre distintos IC50. También, es importante saber que a mayor pIC50 el fármaco tiene una mayor eficacia o mayor potencial<sup> **3** </sup>.\n",
    "\n",
    "**Half maximal effective concentration (EC50):** Es la concentración efectiva para producir el 50 % de la respuesta máxima, se usa para comparar las potencias de los fármacos. También, es importante saber que a menor sea el EC50 más potente será el fármaco. A esta medida también se le calcula el logaritmo negativo en base diez **(pEC50)** para facilitar su comprensión<sup> **4** </sup>.\n",
    "\n",
    "**Constante de inhibición (Ki):** Es la concentración requerida para producir la mitad de la inhibición máxima, es útil para describir la afinidad de unión de una molécula a un receptor.\n",
    "\n",
    "**SMILES (Simplified Molecular-Input Line-Entry System):** Es una notación de línea para describir estructuras químicas utilizando cadenas ASCII cortas<sup> **5** </sup>. "
   ]
  },
  {
   "cell_type": "markdown",
   "metadata": {},
   "source": [
    "# Proteína a estudiar\n",
    "**UniprotID**: P49841\n",
    "\n",
    "**Name**: Glycogen synthase kinase-3 beta\n",
    "\n",
    "**Protein Target Classification**: Enzyme > Kinase > Protein Kinase > CMGC protein kinase group > CMGC protein kinase GSK family\n",
    "\n",
    "Debemos buscar el ID del target de interés en la base de datos Uniprot, que en este caso es Glucógeno sintasa quinasa-3 beta, ID: [P49841](https://www.uniprot.org/uniprot/P49841)."
   ]
  },
  {
   "cell_type": "markdown",
   "metadata": {},
   "source": [
    "## Conectarse a la base de datos ChEMBL"
   ]
  },
  {
   "cell_type": "code",
   "execution_count": null,
   "metadata": {
    "collapsed": false,
    "jupyter": {
     "outputs_hidden": false
    },
    "tags": []
   },
   "outputs": [],
   "source": [
    "!pip install chembl_webresource_client\n",
    "!pip install rdkit\n",
    "\n",
    "from chembl_webresource_client.new_client import new_client #Se importa la biblioteca webresource client que permite conectase a ChEMBL\n",
    "import pandas as pd\n",
    "import math\n",
    "from rdkit.Chem import PandasTools"
   ]
  },
  {
   "cell_type": "markdown",
   "metadata": {},
   "source": [
    "Se deben crear para el acceso a la API"
   ]
  },
  {
   "cell_type": "code",
   "execution_count": null,
   "metadata": {
    "tags": []
   },
   "outputs": [],
   "source": [
    "targets = new_client.target\n",
    "compounds = new_client.molecule\n",
    "bioactivities = new_client.activity"
   ]
  },
  {
   "cell_type": "markdown",
   "metadata": {},
   "source": [
    "## Datos del target \n",
    "Luego, debemos buscar el ID del target de interés en la base de datos Uniprot, que en este caso es Glucógeno sintasa quinasa-3 beta, ID: [P49841](https://www.uniprot.org/uniprot/P49841)."
   ]
  },
  {
   "cell_type": "code",
   "execution_count": null,
   "metadata": {
    "collapsed": false,
    "jupyter": {
     "outputs_hidden": false
    },
    "tags": []
   },
   "outputs": [],
   "source": [
    "uniprot_id = 'P49841'\n",
    "# Adquirir información de ChEMBL que sea de interés\n",
    "target_P49841 = targets.get(target_components__accession=uniprot_id) \\\n",
    "                       .only('target_chembl_id', 'organism', 'pref_name', 'target_type')\n",
    "pd.DataFrame(target_P49841)"
   ]
  },
  {
   "cell_type": "markdown",
   "metadata": {},
   "source": [
    "Vamos a seleccionar el target de interés (`CHEMBL262`) y guardar el ChEMBL-ID"
   ]
  },
  {
   "cell_type": "code",
   "execution_count": null,
   "metadata": {
    "collapsed": false,
    "jupyter": {
     "outputs_hidden": false
    },
    "tags": []
   },
   "outputs": [],
   "source": [
    "# Seleccionar el target de interés\n",
    "target = target_P49841[0]\n",
    "print(target)\n",
    "\n",
    "# Guardar el ChEMBL-ID\n",
    "chembl_id = target['target_chembl_id']\n",
    "print(f'ChEMBL ID: {chembl_id}')"
   ]
  },
  {
   "cell_type": "markdown",
   "metadata": {},
   "source": [
    "## Datos de bioactividad\n",
    "\n",
    "Ahora consultamos los datos de bioactividad que son de interés. Los pasos a seguir son:\n",
    "1. Descargar y filtrar bioactividades para el target\n",
    "    Los datos de bioactividad se van a filtrar de la siguiente manera:\n",
    "        * Tipo de bioactividad: IC50, EC50, Ki\n",
    "        * Relación: \"=\"\n",
    "2. Convertir los datos descargados en un data frame:\n",
    "    Las columnas de interés son: `molecule_chembl_id`, `type`, `relation`, `pchembl_value`"
   ]
  },
  {
   "cell_type": "code",
   "execution_count": null,
   "metadata": {
    "collapsed": false,
    "jupyter": {
     "outputs_hidden": false
    },
    "tags": []
   },
   "outputs": [],
   "source": [
    "# Primero, descargamos toda la base de datos\n",
    "bioact_temp = bioactivities.filter(target_chembl_id = chembl_id)\\\n",
    "                      .filter(relation = '=') \\\n",
    "                      .only('molecule_chembl_id', 'type', 'relation', 'standar_value', 'standar_units', 'pchembl_value', )\n",
    "df_bioact_temp = pd.DataFrame(bioact_temp)\n",
    "# se organizan las columnas\n",
    "df_bioact_temp = df_bioact_temp[['molecule_chembl_id', 'type', 'relation', 'value', 'units', 'pchembl_value']]\n",
    "df_bioact_temp\n",
    "# La primera vez que se ejecuta esta celda celda puede tardar ~5-10 minutos"
   ]
  },
  {
   "cell_type": "code",
   "execution_count": null,
   "metadata": {},
   "outputs": [],
   "source": [
    "# Luego, filtramos por el tipo de actividad deseada\n",
    "df_bioact = df_bioact_temp[(df_bioact_temp['type'] == 'IC50') |\n",
    "                             (df_bioact_temp['type'] == 'EC50')|\n",
    "                             (df_bioact_temp['type'] == 'Ki')]\n",
    "print(f'Total de datos cargados: {len(df_bioact)}')"
   ]
  },
  {
   "cell_type": "code",
   "execution_count": null,
   "metadata": {},
   "outputs": [],
   "source": [
    "# primeros compuestos del dataframe\n",
    "df_bioact.head()"
   ]
  },
  {
   "cell_type": "markdown",
   "metadata": {},
   "source": [
    "Recordemos que el método `.head()` muestra los cinco primeros elementos del `dataframe`, sin embargo, podemos ver rápidamente qué elementos hay en las columnas *relation* y *type*."
   ]
  },
  {
   "cell_type": "code",
   "execution_count": null,
   "metadata": {},
   "outputs": [],
   "source": [
    "df_bioact['relation'].value_counts()"
   ]
  },
  {
   "cell_type": "code",
   "execution_count": null,
   "metadata": {},
   "outputs": [],
   "source": [
    "df_bioact['type'].value_counts()"
   ]
  },
  {
   "cell_type": "markdown",
   "metadata": {},
   "source": [
    "Ya que la columna *relation* tiene solo un tipo (esto se debe al filtro de la base de datos), podemos quitarla:"
   ]
  },
  {
   "cell_type": "code",
   "execution_count": null,
   "metadata": {
    "collapsed": false,
    "jupyter": {
     "outputs_hidden": false
    }
   },
   "outputs": [],
   "source": [
    "df_bioact_temp.pop('relation')\n",
    "df_bioact_temp.head()"
   ]
  },
  {
   "cell_type": "markdown",
   "metadata": {},
   "source": [
    "# Explorar los datos adquiridos\n",
    "## Tipo de actividad\n",
    "Podemos ver el tipo de actividad descargada (filtrar por _type_)"
   ]
  },
  {
   "cell_type": "code",
   "execution_count": null,
   "metadata": {
    "collapsed": false,
    "jupyter": {
     "outputs_hidden": false
    }
   },
   "outputs": [],
   "source": [
    "df_bioact_temp.type.value_counts()"
   ]
  },
  {
   "cell_type": "markdown",
   "metadata": {},
   "source": [
    "O realizar rápidamente un gráfico con la información filtrada"
   ]
  },
  {
   "cell_type": "code",
   "execution_count": null,
   "metadata": {
    "collapsed": false,
    "jupyter": {
     "outputs_hidden": false
    }
   },
   "outputs": [],
   "source": [
    "df_bioact_temp.type.value_counts().plot.barh()"
   ]
  },
  {
   "cell_type": "markdown",
   "metadata": {},
   "source": [
    "Ahora, supongamos que queremos filtrar solamente la actividad **IC50**, **EC50** y **KI**"
   ]
  },
  {
   "cell_type": "code",
   "execution_count": null,
   "metadata": {
    "collapsed": false,
    "jupyter": {
     "outputs_hidden": false
    }
   },
   "outputs": [],
   "source": [
    "# Luego, filtramos por el tipo de actividad deseada\n",
    "df_bioact = df_bioact_temp[(df_bioact_temp['type'] == 'IC50') |\n",
    "                           (df_bioact_temp['type'] == 'EC50') |\n",
    "                           (df_bioact_temp['type'] == 'Ki')]\n",
    "print(f'Total de datos cargados: {len(df_bioact)}')\n",
    "# primeros compuestos del dataframe\n",
    "df_bioact.head()"
   ]
  },
  {
   "cell_type": "markdown",
   "metadata": {},
   "source": [
    "Recordemos que el método `.head()` muestra los cinco primeros elementos del `dataframe`, sin embargo, podemos ver rápidamente qué elementos hay en las columnas *relation* y *type*."
   ]
  },
  {
   "cell_type": "code",
   "execution_count": null,
   "metadata": {
    "collapsed": false,
    "jupyter": {
     "outputs_hidden": false
    }
   },
   "outputs": [],
   "source": [
    "grupo_actividad = df_bioact.type.value_counts()\n",
    "grupo_actividad"
   ]
  },
  {
   "cell_type": "code",
   "execution_count": null,
   "metadata": {
    "collapsed": false,
    "jupyter": {
     "outputs_hidden": false
    }
   },
   "outputs": [],
   "source": [
    "grupo_actividad.plot.bar()"
   ]
  },
  {
   "cell_type": "markdown",
   "metadata": {},
   "source": [
    "## Unidades de medición\n",
    "Ahora exploremos un poco las unidades de medición de la bioactividad"
   ]
  },
  {
   "cell_type": "code",
   "execution_count": null,
   "metadata": {
    "collapsed": false,
    "jupyter": {
     "outputs_hidden": false
    }
   },
   "outputs": [],
   "source": [
    "grupo_unidades = df_bioact.units.value_counts(dropna=False)\n",
    "grupo_unidades"
   ]
  },
  {
   "cell_type": "code",
   "execution_count": null,
   "metadata": {
    "collapsed": false,
    "jupyter": {
     "outputs_hidden": false
    }
   },
   "outputs": [],
   "source": [
    "grupo_unidades.plot.bar()"
   ]
  },
  {
   "cell_type": "markdown",
   "metadata": {},
   "source": [
    "## Limpiar los datos\n",
    "Es posible que algunos compuestos tengan valores faltantes y también duplicados, ya que el mismo compuesto puede haber sido probado más de una vez (nosotros nos quedaremos solo con el que primero haya sido probado)"
   ]
  },
  {
   "cell_type": "code",
   "execution_count": null,
   "metadata": {
    "collapsed": false,
    "jupyter": {
     "outputs_hidden": false
    }
   },
   "outputs": [],
   "source": [
    "# Primero verificamos cuantos compuestos tenemos en total\n",
    "ori_len = len(df_bioact)\n",
    "print(f'Total de compuestos originales es: {ori_len}')"
   ]
  },
  {
   "cell_type": "code",
   "execution_count": null,
   "metadata": {
    "collapsed": false,
    "jupyter": {
     "outputs_hidden": false
    }
   },
   "outputs": [],
   "source": [
    "# Se eliminan los compuestos que no tienen pChEMBL_value\n",
    "df_bioact = df_bioact.dropna(axis=0, how = 'any')\n",
    "new_len = len(df_bioact)\n",
    "print(f'Total de compuestos despues de eliminar aquellos con datos faltantes: {new_len}')\n",
    "# Se le resta al número total de compuestos el número total de compuestos al eliminar los que no tienen pChEMBL_value\n",
    "print(f'Total compuestos eliminados {ori_len - new_len}')\n",
    "ori_len = new_len"
   ]
  },
  {
   "cell_type": "code",
   "execution_count": null,
   "metadata": {
    "collapsed": false,
    "jupyter": {
     "outputs_hidden": false
    }
   },
   "outputs": [],
   "source": [
    "# Se eliminan los compuestos duplicados y nos quedamos con el primer compuesto de la lista\n",
    "df_bioact = df_bioact.drop_duplicates('molecule_chembl_id', keep = 'first')\n",
    "new_len = len(df_bioact)\n",
    "print(f'Total de compuestos sin duplicados : {new_len}')\n",
    "# Se le resta al número total de compuestos al eliminar los que no tienen pChEMBL_value el número total de compuestos sin duplicados\n",
    "print(f'Total compuestos eliminados {ori_len - new_len}')\n",
    "ori_len = new_len"
   ]
  },
  {
   "cell_type": "code",
   "execution_count": null,
   "metadata": {
    "collapsed": false,
    "jupyter": {
     "outputs_hidden": false
    }
   },
   "outputs": [],
   "source": [
    "df_bioact.head()"
   ]
  },
  {
   "cell_type": "markdown",
   "metadata": {},
   "source": [
    "Ahora que hemos eliminado algunas filas restableceremos el índice para que este sea continuo"
   ]
  },
  {
   "cell_type": "code",
   "execution_count": null,
   "metadata": {
    "collapsed": false,
    "jupyter": {
     "outputs_hidden": false
    }
   },
   "outputs": [],
   "source": [
    "df_bioact.reset_index(drop=True, inplace=True)\n",
    "df_bioact.head()"
   ]
  },
  {
   "cell_type": "markdown",
   "metadata": {},
   "source": [
    "## Histograma del pchembl_value\n",
    "La columna `pchembl_value` maneja un valor _común_ el cual se puede analizar un poco.\n",
    "Antes de realizar el histograma debemos cambiar el tipo de la variable, pues esta como `string`"
   ]
  },
  {
   "cell_type": "code",
   "execution_count": null,
   "metadata": {
    "collapsed": false,
    "jupyter": {
     "outputs_hidden": false
    }
   },
   "outputs": [],
   "source": [
    "# Primer valor:\n",
    "value = df_bioact.pchembl_value[0]\n",
    "print(value, type(value))"
   ]
  },
  {
   "cell_type": "markdown",
   "metadata": {},
   "source": [
    "Como la columna `pchembl_value` tiene valores como texto, se deben convetir a valores numéricos"
   ]
  },
  {
   "cell_type": "code",
   "execution_count": null,
   "metadata": {
    "collapsed": false,
    "jupyter": {
     "outputs_hidden": false
    }
   },
   "outputs": [],
   "source": [
    "# Cambiar de str a float la columna pchembl_value\n",
    "df_bioact = df_bioact.astype({'pchembl_value': 'float'})\n",
    "value = df_bioact.pchembl_value[0]\n",
    "print(value, type(value))"
   ]
  },
  {
   "cell_type": "code",
   "execution_count": null,
   "metadata": {
    "collapsed": false,
    "jupyter": {
     "outputs_hidden": false
    }
   },
   "outputs": [],
   "source": [
    "df_bioact.dtypes"
   ]
  },
  {
   "cell_type": "markdown",
   "metadata": {},
   "source": [
    "Ahora se puede hacer el histograma de los valores de la columna `pchembl_value`"
   ]
  },
  {
   "cell_type": "code",
   "execution_count": null,
   "metadata": {
    "collapsed": false,
    "jupyter": {
     "outputs_hidden": false
    }
   },
   "outputs": [],
   "source": [
    "df_bioact.hist(column='pchembl_value', bins=20)"
   ]
  },
  {
   "cell_type": "markdown",
   "metadata": {},
   "source": [
    "## Organizar los datos\n",
    "Vamos a organizar el DataFrame de mayor a menor pchembl_value."
   ]
  },
  {
   "cell_type": "code",
   "execution_count": null,
   "metadata": {
    "collapsed": false,
    "jupyter": {
     "outputs_hidden": false
    }
   },
   "outputs": [],
   "source": [
    "# Organizamos de mayor a menor pchembl_value\n",
    "df_bioact.sort_values(by=\"pchembl_value\", ascending=False, inplace=True)\n",
    "# Restablecemos el índice\n",
    "df_bioact.reset_index(drop=True, inplace=True)\n",
    "# Imprimimos los primeros datos del Dataframe\n",
    "df_bioact.head()"
   ]
  },
  {
   "cell_type": "markdown",
   "metadata": {},
   "source": [
    "## Guardar y cargar los datos\n",
    "Para continuar usando el Data Frame en la práctica sin necesidad de siempre estarnos conectando a ChEMBL, vamos a guardar el Data Frame obtenido como un archivo separado por comas (data/compuestos_uniprot_id.csv)"
   ]
  },
  {
   "cell_type": "code",
   "execution_count": null,
   "metadata": {
    "collapsed": false,
    "jupyter": {
     "outputs_hidden": false
    }
   },
   "outputs": [],
   "source": [
    "!mkdir -p ./data\n",
    "df_bioact.to_csv(f\"./data/compounds_{uniprot_id}.csv\", index=0)"
   ]
  },
  {
   "cell_type": "markdown",
   "metadata": {},
   "source": [
    "En adelante, si queremos utilizar el Dataframe, podemos cargar el archivo guardado"
   ]
  },
  {
   "cell_type": "code",
   "execution_count": null,
   "metadata": {
    "collapsed": false,
    "jupyter": {
     "outputs_hidden": false
    }
   },
   "outputs": [],
   "source": [
    "url = 'https://raw.githubusercontent.com/ramirezlab/Farmacoinformatica-2022/main/02_Sesiones-practicas/01_Sesion-I/data/compuestos_P49841.csv'\n",
    "df_bioact = pd.read_csv(url,parse_dates=[0])\n",
    "df_bioact.head()"
   ]
  },
  {
   "cell_type": "markdown",
   "metadata": {},
   "source": [
    "# Datos de los compuestos\n",
    "\n",
    "A continuación vamos a obtener los datos de las moléculas que estan almacenados dentro de cada molecule_chembl_id"
   ]
  },
  {
   "cell_type": "code",
   "execution_count": null,
   "metadata": {
    "collapsed": false,
    "jupyter": {
     "outputs_hidden": false
    }
   },
   "outputs": [],
   "source": [
    "# Librería necesaria para comunicarse con CHEMBL\n",
    "from chembl_webresource_client.new_client import new_client\n",
    "# libreria para trabajar con base de datos (Dataframes)\n",
    "import pandas as pd\n",
    "\n",
    "# Declaración de variables para instanciar el cliente de CHEMBL y acceder a la base de datos de las moléculas\n",
    "compounds = new_client.molecule\n",
    "\n",
    "# Cargamos el archivo antes guardado\n",
    "uniprot_id = 'P49841'\n",
    "# df_bioact = pd.read_csv(f\"data/compuestos_{uniprot_id}.csv\")\n",
    "url = 'https://raw.githubusercontent.com/ramirezlab/Farmacoinformatica-2022/main/02_Sesiones-practicas/01_Sesion-I/data/compuestos_P49841.csv'\n",
    "df_bioact = pd.read_csv(url,parse_dates=[0])"
   ]
  },
  {
   "cell_type": "code",
   "execution_count": null,
   "metadata": {
    "collapsed": false,
    "jupyter": {
     "outputs_hidden": false
    }
   },
   "outputs": [],
   "source": [
    "# Primero tenemos que obtener la lista de los compuestos que definimos como bioactivos\n",
    "lista_comp_id = list(df_bioact['molecule_chembl_id'])\n",
    "# Obtener la estructura de cada compuesto\n",
    "lista_compuestos = compounds.filter(molecule_chembl_id__in = lista_comp_id) \\\n",
    "                            .only('molecule_chembl_id','molecule_structures')"
   ]
  },
  {
   "cell_type": "markdown",
   "metadata": {},
   "source": [
    "Veamos la estructura de la información"
   ]
  },
  {
   "cell_type": "code",
   "execution_count": null,
   "metadata": {
    "collapsed": false,
    "jupyter": {
     "outputs_hidden": false
    }
   },
   "outputs": [],
   "source": [
    "lista_compuestos[0]"
   ]
  },
  {
   "cell_type": "code",
   "execution_count": null,
   "metadata": {},
   "outputs": [],
   "source": [
    "# Debemos convertir la lista obtenida en un dataframe. Esto puede tardar unos minutos\n",
    "df_comp = pd.DataFrame(lista_compuestos)\n",
    "# Eliminamos duplicados\n",
    "df_comp = df_comp.drop_duplicates('molecule_chembl_id', keep = 'first')\n",
    "print(f'Total de compuestos es: {str(len(df_comp))}')\n",
    "df_comp.head()"
   ]
  },
  {
   "cell_type": "markdown",
   "metadata": {},
   "source": [
    "Los compuestos tienen distintos tipos de representaciones como el SMILES, el InChI y el InChI Key. Nos interesa únicamente quedarnos con el SMILES, ya que describe la estructura química."
   ]
  },
  {
   "cell_type": "code",
   "execution_count": null,
   "metadata": {},
   "outputs": [],
   "source": [
    "# Vamos a utilizar un ciclo for para iterar por cada renglón (df_comp.iterrows())\n",
    "for i, cmpd in df_comp.iterrows():\n",
    "    if df_comp.loc[i]['molecule_structures'] is not None:\n",
    "        df_comp.loc[i]['molecule_structures'] = cmpd['molecule_structures']['canonical_smiles']\n",
    "print(f'Total de compuestos: {len(df_comp)}')\n",
    "df_comp.head()"
   ]
  },
  {
   "cell_type": "markdown",
   "metadata": {},
   "source": [
    "### Limpiar las sales de los smiles\n",
    "Si se revisa con detalle la representación de *smiles* de cada molécula, podemos ver que algunas tienen *sales* que se deben limpiar.\n",
    "Primero filtremos las moleculas que tienen sales, usualmente se puede ver en los smiles porque tienen un punto en la cadena de texto:"
   ]
  },
  {
   "cell_type": "code",
   "execution_count": null,
   "metadata": {},
   "outputs": [],
   "source": [
    "df_comp[df_comp.molecule_structures.str.contains(\"\\.\")]"
   ]
  },
  {
   "cell_type": "markdown",
   "metadata": {},
   "source": [
    "Es decir, de los 2658 compuestos iniciales, 67 tienen sales que deben ser limpiadas. Podemos utilizar un módulo de `rdkit` para limpiar sales llamado `rdkit.Chem.SaltRemover`.\n",
    "Supongamos que queremos eliminar la sal del smile \"CN1CCN(CCO/N=C2C(=C3/C(=O)Nc4cc(Br)ccc43)/Nc3ccccc3/2)CC1.Cl\", se puede hacer los siguiente:"
   ]
  },
  {
   "cell_type": "code",
   "execution_count": null,
   "metadata": {},
   "outputs": [],
   "source": [
    "# librerías\n",
    "from rdkit.Chem.SaltRemover import SaltRemover\n",
    "from rdkit.Chem import MolFromSmiles, MolToSmiles\n",
    "\n",
    "# Se carga el módulo para remover las sales\n",
    "remover = SaltRemover()\n",
    "# se convierte el smile a un objeto mol\n",
    "mol = MolFromSmiles('Br.CCCCCc1n/c(=N\\Cc2cccnc2)sn1-c1ccccc1')\n",
    "# se remueve las sales (res=molécula, deleted=fragmento eliminado)\n",
    "res, deleted = remover.StripMolWithDeleted(mol)\n",
    "# se convierte el objeto mol a smiles nuevamente y se eliminan espacios en blanco\n",
    "MolToSmiles(res).strip()"
   ]
  },
  {
   "cell_type": "markdown",
   "metadata": {},
   "source": [
    "Ahora vamos a crear una función que haga este proceso para pasarla por el dataframe `df_comp`"
   ]
  },
  {
   "cell_type": "code",
   "execution_count": null,
   "metadata": {},
   "outputs": [],
   "source": [
    "def remover_sales(smile):\n",
    "    remover = SaltRemover()\n",
    "    mol = MolFromSmiles(smile)\n",
    "    res, deleted = remover.StripMolWithDeleted(mol)\n",
    "    return MolToSmiles(res)"
   ]
  },
  {
   "cell_type": "markdown",
   "metadata": {},
   "source": [
    "Aplicamos la función a la columna de los smiles"
   ]
  },
  {
   "cell_type": "code",
   "execution_count": null,
   "metadata": {},
   "outputs": [],
   "source": [
    "df_comp['molecule_structures'] = df_comp['molecule_structures'].apply(remover_sales)\n",
    "# Eliminar los espacios en blanco en los bordes de cada cadena en la columna \"molecule_structures\"\n",
    "df_comp[\"molecule_structures\"] = df_comp[\"molecule_structures\"].str.strip()"
   ]
  },
  {
   "cell_type": "markdown",
   "metadata": {},
   "source": [
    "Volvemos a buscar smiles que tengan sales para comprobar que la limpieza fue exitosa"
   ]
  },
  {
   "cell_type": "code",
   "execution_count": null,
   "metadata": {},
   "outputs": [],
   "source": [
    "df_comp[df_comp.molecule_structures.str.contains(\"\\.\")]"
   ]
  },
  {
   "cell_type": "markdown",
   "metadata": {},
   "source": [
    "Ya limpiamos las sales de las moléculas, ahora debemos eliminar las moléculas con datos vacíos. Por ejemplo al limpiar la molécula \"[Cl-].[Li+]\" se eliminan las dos sales y la salida queda vacía `('')`. Para eliminar estos campos podemos utilizar `dropna` y filtrar por los que no son vacíos."
   ]
  },
  {
   "cell_type": "code",
   "execution_count": null,
   "metadata": {},
   "outputs": [],
   "source": [
    "df_comp.dropna(subset=[\"molecule_structures\"], inplace=True)\n",
    "df_comp = df_comp[df_comp['molecule_structures'] != '']"
   ]
  },
  {
   "cell_type": "markdown",
   "metadata": {},
   "source": [
    "Y ya tenemos el conjunto de moléculas limpias."
   ]
  },
  {
   "cell_type": "markdown",
   "metadata": {},
   "source": [
    "## Combinar los Dataframe\n",
    "\n",
    "Ahora tenemos dos dataframes que vamos a combinar para tener todos los datos en uno solo dataframe y poder guardarlos"
   ]
  },
  {
   "cell_type": "code",
   "execution_count": null,
   "metadata": {
    "collapsed": false,
    "jupyter": {
     "outputs_hidden": false
    }
   },
   "outputs": [],
   "source": [
    "# En el Dataframe de bioactividad se filtran solamente dos columnas\n",
    "df_output = pd.merge(df_bioact[['molecule_chembl_id','pchembl_value']], df_comp, on='molecule_chembl_id')\n",
    "print(f'Total de compuestos es: {str(len(df_output))}')\n",
    "df_output.head()"
   ]
  },
  {
   "cell_type": "markdown",
   "metadata": {},
   "source": [
    "Se pueden renombrar las columnas"
   ]
  },
  {
   "cell_type": "code",
   "execution_count": null,
   "metadata": {
    "collapsed": false,
    "jupyter": {
     "outputs_hidden": false
    }
   },
   "outputs": [],
   "source": [
    "df_output = df_output.rename(columns= {'molecule_structures':'smiles'})\n",
    "print(f'Total de compuestos es: {str(len(df_output))}')\n",
    "df_output.head()"
   ]
  },
  {
   "cell_type": "markdown",
   "metadata": {},
   "source": [
    "Para poder emplear la siguiente función de rdkit es necesario que todos los compuestos tengan SMILES, por esto eliminamos los compuestos sin SMILES en el dataframe"
   ]
  },
  {
   "cell_type": "code",
   "execution_count": null,
   "metadata": {
    "collapsed": false,
    "jupyter": {
     "outputs_hidden": false
    }
   },
   "outputs": [],
   "source": [
    "df_output = df_output[~df_output['smiles'].isnull()]\n",
    "print(f'Total de compuestos es: {str(len(df_output))}')\n",
    "df_output.head()"
   ]
  },
  {
   "cell_type": "markdown",
   "metadata": {},
   "source": [
    "## Dibujar la molécula\n",
    "\n",
    "Vamos a añadir una nueva columna al dataframe con la función `.AddMoleculeColumnToFrame` la cual convierte las moléculas contenidas en \"smilesCol\" en moléculas RDKit y las agrega al dataframe"
   ]
  },
  {
   "cell_type": "code",
   "execution_count": null,
   "metadata": {
    "collapsed": false,
    "jupyter": {
     "outputs_hidden": false
    }
   },
   "outputs": [],
   "source": [
    "from rdkit.Chem import PandasTools\n",
    "PandasTools.AddMoleculeColumnToFrame(df_output, smilesCol='smiles')\n",
    "df_output.head()"
   ]
  },
  {
   "cell_type": "markdown",
   "metadata": {},
   "source": [
    "Ahora podemos llamar a cualquier compuesto para ver su representación en 2D"
   ]
  },
  {
   "cell_type": "code",
   "execution_count": null,
   "metadata": {
    "collapsed": false,
    "jupyter": {
     "outputs_hidden": false
    }
   },
   "outputs": [],
   "source": [
    "df_output.ROMol.iloc[0]"
   ]
  },
  {
   "cell_type": "markdown",
   "metadata": {},
   "source": [
    "## Guardar el dataframe obtenido\n",
    "\n",
    "Se va a guardar el dataframe como un archivo csv"
   ]
  },
  {
   "cell_type": "code",
   "execution_count": null,
   "metadata": {
    "collapsed": false,
    "jupyter": {
     "outputs_hidden": false
    }
   },
   "outputs": [],
   "source": [
    "!mkdir -p ./data\n",
    "df_output.to_csv(f\"data/compounds_{uniprot_id}_full.csv\", index=0)"
   ]
  },
  {
   "cell_type": "markdown",
   "metadata": {},
   "source": [
    "## Conclusiones\n",
    "En esta práctica se empleó la base de datos ChEMBL para obtener datos de compuestos bioactivos frente a nuestro target de interés. Estos datos extraidos en forma de diccionarios y listas se convirtieron en un DataFrame el cual permite visualizar fácilmente la información obtenida. Además, se obtuvieron datos de los compuestos bioactivos, combinaron DataFrames, se renombraron columnas y se utilizó una herramienta de panda para añadir una nueva columna al DataFrame construido."
   ]
  },
  {
   "cell_type": "markdown",
   "metadata": {},
   "source": [
    "# Referencias\n",
    "1. Coudert, E., Gehant, S., De Castro, E., Pozzato, M., Baratin, D., Neto, T., Sigrist, C. J. A., Redaschi, N., Bridge, A., The UniProt Consortium, Bridge, A. J., Aimo, L., Argoud-Puy, G., Auchincloss, A. H., Axelsen, K. B., Bansal, P., Baratin, D., Neto, T. M. B., Blatter, M.-C., … Wang, Y. (2023). Annotation of biologically relevant ligands in UniProtKB using ChEBI. Bioinformatics, 39(1), btac793. https://doi.org/10.1093/bioinformatics/btac793\n",
    "2. Mendez, D., Gaulton, A., Bento, A. P., Chambers, J., De Veij, M., Félix, E., Magariños, M. P., Mosquera, J. F., Mutowo, P., Nowotka, M., Gordillo-Marañón, M., Hunter, F., Junco, L., Mugumbate, G., Rodriguez-Lopez, M., Atkinson, F., Bosc, N., Radoux, C. J., Segura-Cabrera, A., … Leach, A. R. (2019). ChEMBL: Towards direct deposition of bioassay data. Nucleic Acids Research, 47(D1), D930-D940. https://doi.org/10.1093/nar/gky1075\n",
    "3. Aykul, S., & Martinez-Hackert, E. (2016). Determination of half-maximal inhibitory concentration using biosensor-based protein interaction analysis. Analytical Biochemistry, 508, 97-103. https://doi.org/10.1016/j.ab.2016.06.025\n",
    "4. Waller, D. G., & Sampson, A. P. (2018). Principles of pharmacology and mechanisms of drug action. En Medical Pharmacology and Therapeutics (pp. 3-31). Elsevier. https://doi.org/10.1016/B978-0-7020-7167-6.00001-4\n",
    "5. Daylight>cheminformatics. (2022). https://www.daylight.com/smiles/ "
   ]
  }
 ],
 "metadata": {
  "kernelspec": {
   "display_name": "Python 3 (ipykernel)",
   "language": "python",
   "name": "python3"
  },
  "language_info": {
   "codemirror_mode": {
    "name": "ipython",
    "version": 3
   },
   "file_extension": ".py",
   "mimetype": "text/x-python",
   "name": "python",
   "nbconvert_exporter": "python",
   "pygments_lexer": "ipython3",
   "version": "3.8.16"
  }
 },
 "nbformat": 4,
 "nbformat_minor": 4
}
