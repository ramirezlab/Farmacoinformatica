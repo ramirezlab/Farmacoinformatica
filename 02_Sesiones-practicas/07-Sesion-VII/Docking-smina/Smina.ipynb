{
 "cells": [
  {
   "cell_type": "markdown",
   "metadata": {},
   "source": [
    "[![Open In Colab](https://colab.research.google.com/assets/colab-badge.svg)](https://colab.research.google.com/github/ramirezlab/Farmacoinformatica/blob/main/02_Sesiones-practicas/07_Sesion-VII/Smina.ipynb)"
   ]
  },
  {
   "cell_type": "markdown",
   "metadata": {
    "id": "qLgYZ9fLFQhr"
   },
   "source": [
    "# Basic Protein-ligand Docking with Smina (Re-Docking)\n",
    "Smina protein-ligand re-docking   \n",
    "* Laboratorio de diseño de fármacos Nanocell\n",
    "* https://www.nanocell.cl\n",
    "* Mr. Ignacio Martínez Valenzuela\n",
    "* v.1\n",
    "* November 2021"
   ]
  },
  {
   "cell_type": "markdown",
   "metadata": {
    "id": "rytabRWkFyzj"
   },
   "source": [
    "# Smina\n",
    "https://sourceforge.net/projects/smina/\n",
    "https://github.com/mwojcikowski/smina\n",
    "## Requirements\n",
    "* test_version = smina 2020.12.10 conda-forge:b08c07c   Built Jan 30 2021.  Based on AutoDock Vina 1.1.2.\n",
    "* conda install -c conda-forge smina\n",
    "* conda install -c conda-forge rdkit\n",
    "* conda install -c conda-forge py3dmol\n",
    "* conda install -c conda-forge spyrmsd\n",
    "* conda install -c conda-forge prody\n",
    "* or\n",
    "* Recomended $\\to$ conda create -n smina -c conda-forge smina rdkit py3dmol spyrmsd prody"
   ]
  },
  {
   "cell_type": "markdown",
   "metadata": {
    "id": "YZnf7wCc9M8B"
   },
   "source": [
    "#Requeriments Installation"
   ]
  },
  {
   "cell_type": "code",
   "execution_count": null,
   "metadata": {
    "colab": {
     "base_uri": "https://localhost:8080/"
    },
    "id": "KbiyNyzhaNzD",
    "outputId": "2abf6bd5-70be-41d0-8307-022756704ff4"
   },
   "outputs": [],
   "source": [
    "!pip install rdkit\n",
    "!pip install spyrmsd\n",
    "!pip install prody\n",
    "!pip install py3Dmol # 3D Molecular Visualizer\n",
    "!pip install -q condacolab\n",
    "import condacolab\n",
    "condacolab.install()\n",
    "!conda install -q -y -c openbabel openbabel"
   ]
  },
  {
   "cell_type": "markdown",
   "metadata": {
    "id": "jYJqDO9HSVT9"
   },
   "source": [
    "# Download Smina"
   ]
  },
  {
   "cell_type": "code",
   "execution_count": null,
   "metadata": {
    "colab": {
     "base_uri": "https://localhost:8080/"
    },
    "id": "ib6AWsOTI1xA",
    "outputId": "a0b3f3e7-7673-4eda-ff7d-6b9926d6a052"
   },
   "outputs": [],
   "source": [
    "!wget https://sourceforge.net/projects/smina/files/smina.static/download -O smina.static"
   ]
  },
  {
   "cell_type": "code",
   "execution_count": null,
   "metadata": {
    "id": "39wUi5y-I80D"
   },
   "outputs": [],
   "source": [
    " #Permissions\n",
    "!chmod u+x smina.static"
   ]
  },
  {
   "cell_type": "code",
   "execution_count": null,
   "metadata": {
    "colab": {
     "base_uri": "https://localhost:8080/"
    },
    "id": "vEzu_-P3JDiy",
    "outputId": "08b3a1bc-489c-4c48-c761-ea5162d6b66b"
   },
   "outputs": [],
   "source": [
    "#Usage and commands\n",
    "!./smina.static"
   ]
  },
  {
   "cell_type": "markdown",
   "metadata": {
    "id": "6juYwyBFJRMi"
   },
   "source": [
    "## Select Protein Receptor"
   ]
  },
  {
   "cell_type": "code",
   "execution_count": null,
   "metadata": {
    "id": "79jk0iU5JYUt"
   },
   "outputs": [],
   "source": [
    "# We're going to use crystalographic structure of Tau-Tubulin Kinase 1 as receptor\n",
    "#If you want to use another structure you need to change the pdb_code\n",
    "pdb_code = '4BTK'"
   ]
  },
  {
   "cell_type": "code",
   "execution_count": null,
   "metadata": {
    "colab": {
     "base_uri": "https://localhost:8080/"
    },
    "id": "q_0ilDHsJYW3",
    "outputId": "7ba6c4c5-6278-4997-86d0-91fd6ff1b869"
   },
   "outputs": [],
   "source": [
    "#Download the structure from rscb, pdb database\n",
    "! wget https://files.rcsb.org/download/4BTK.pdb\n",
    "#Extract chain A\n",
    "! grep -i ' A ' 4BTK.pdb > 4BTK_A.pdb"
   ]
  },
  {
   "cell_type": "markdown",
   "metadata": {
    "id": "l5j_xWgfLRNr"
   },
   "source": [
    "## Extract Ligand from PDB\n",
    "\n",
    "* In this case we´re going to use the same ligand from the structure of receptor to perform docking\n",
    "* This is called Re-docking"
   ]
  },
  {
   "cell_type": "code",
   "execution_count": null,
   "metadata": {
    "id": "lcv3LGbOLPyS"
   },
   "outputs": [],
   "source": [
    "#Extract ligand from PDB\n",
    "!grep -i 'DTQ' 4BTK.pdb > 4BTK_ligand.pdb"
   ]
  },
  {
   "cell_type": "markdown",
   "metadata": {
    "id": "zk62uOjYLe-A"
   },
   "source": [
    "## Clean Receptor\n",
    "* We need clean the pdb of all heteroatoms (ligands, waters, ions, precipitant agent) to use it in the docking program"
   ]
  },
  {
   "cell_type": "code",
   "execution_count": null,
   "metadata": {
    "id": "AKDYqCgQLdeq"
   },
   "outputs": [],
   "source": [
    "#Clean the strcture of heteroatoms\n",
    "!grep -v HETATM 4BTK_A.pdb > 4BTK_clean.pdb"
   ]
  },
  {
   "cell_type": "markdown",
   "metadata": {
    "id": "ucpTyjAdkPJB"
   },
   "source": [
    "## Convert to PDBQT format\n",
    "* Format which includes atomic partial charges and atom types to the coordinates pdb file"
   ]
  },
  {
   "cell_type": "code",
   "execution_count": null,
   "metadata": {
    "colab": {
     "base_uri": "https://localhost:8080/"
    },
    "id": "CT2ICrwlkKSI",
    "outputId": "659f5128-a682-4e61-c9bf-e03259d1fa49"
   },
   "outputs": [],
   "source": [
    "!obabel 4BTK_clean.pdb -xr -O 4BTK_clean.pdbqt\n",
    "!obabel 4BTK_ligand.pdb -O 4BTK_ligand.pdbqt"
   ]
  },
  {
   "cell_type": "markdown",
   "metadata": {
    "id": "-FDFZdErlH-P"
   },
   "source": [
    "## Smina Rigid Receptor Docking"
   ]
  },
  {
   "cell_type": "code",
   "execution_count": null,
   "metadata": {
    "colab": {
     "base_uri": "https://localhost:8080/"
    },
    "id": "kkmSZsBQLvcl",
    "outputId": "f424a788-2554-47ef-f148-14af3ae9c74f"
   },
   "outputs": [],
   "source": [
    "#Smina Rigid Docking\n",
    "!./smina.static --cpu 12 --seed 0 --exhaustiveness 32 --autobox_add +6 --autobox_ligand 4BTK_ligand.pdbqt -r 4BTK_clean.pdbqt -l 4BTK_ligand.pdbqt -o 4BTK_docking.sdf --log Rigid_results.log"
   ]
  },
  {
   "cell_type": "markdown",
   "metadata": {
    "id": "qpMSDMuASqRl"
   },
   "source": [
    "## Visualization\n",
    "\n",
    "* Best result or pose (cyan) vs crystallographic ligand (magenta)"
   ]
  },
  {
   "cell_type": "code",
   "execution_count": null,
   "metadata": {
    "colab": {
     "base_uri": "https://localhost:8080/",
     "height": 669
    },
    "id": "MWn9GluIWnNe",
    "outputId": "1d4fa7cf-36f8-4b80-8f6b-85a6c5581fa6"
   },
   "outputs": [],
   "source": [
    "from rdkit import Chem\n",
    "from rdkit.Chem import AllChem, Draw\n",
    "import py3Dmol\n",
    "\n",
    "#Parameters\n",
    "\n",
    "view = py3Dmol.view(width=1000, height=600)\n",
    "view.removeAllModels()\n",
    "view.setViewStyle({'style':'outline','color':'black','width':0.1})\n",
    "\n",
    "# Receptor\n",
    "\n",
    "view.addModel(open('{0}_clean.pdb'.format(pdb_code),'r').read(),format='pdb')\n",
    "Prot=view.getModel()\n",
    "Prot.setStyle({'cartoon':{'arrows':True, 'tubes':True, 'style':'oval', 'color':'white'}})\n",
    "view.addSurface(py3Dmol.VDW,{'opacity':0.6,'color':'white'})\n",
    "\n",
    "# Reference Ligand\n",
    "\n",
    "view.addModel(open('{0}_ligand.pdb'.format(pdb_code),'r').read(),format='pdb')\n",
    "ref_m = view.getModel()\n",
    "ref_m.setStyle({},{'stick':{'colorscheme':'magentaCarbon','radius':0.2}})\n",
    "\n",
    "# Docking Result\n",
    "\n",
    "results=Chem.SDMolSupplier('{0}_docking.sdf'.format(pdb_code))\n",
    "\n",
    "p=Chem.MolToMolBlock(results[0],False)  # [0] give you the first result from docking, to view another change this value\n",
    "# Print Score\n",
    "\n",
    "print('Reference: Magenta | Smina Pose: Cyan')\n",
    "print ('Score: {}'.format(results[0].GetProp('minimizedAffinity')))  # If change docking result above, change this value too\n",
    "\n",
    "view.addModel(p,'mol')\n",
    "x = view.getModel()\n",
    "x.setStyle({},{'stick':{'colorscheme':'cyanCarbon','radius':0.2}})\n",
    "\n",
    "\n",
    "#Visualization\n",
    "view.zoomTo()\n",
    "view.animate({'loop': \"forward\"})\n",
    "view.rotate(-375,'y',1);\n",
    "view.rotate(250,'x',1);\n",
    "view.rotate(150,'z',1);\n",
    "view.center({'resn':'DTQ'})\n",
    "view.zoom(5,1)\n",
    "view.render()"
   ]
  },
  {
   "cell_type": "markdown",
   "metadata": {
    "id": "XK2njEw6YjhU"
   },
   "source": [
    "## RMSD Measurement"
   ]
  },
  {
   "cell_type": "code",
   "execution_count": null,
   "metadata": {
    "id": "t3NgtJJnYjAP"
   },
   "outputs": [],
   "source": [
    "from spyrmsd import io, rmsd\n",
    "\n",
    "#Load Reference\n",
    "\n",
    "ref = io.loadmol('{0}_ligand.pdb'.format(pdb_code))\n",
    "\n",
    "coords_ref = ref.coordinates\n",
    "anum_ref = ref.atomicnums\n",
    "adj_ref = ref.adjacency_matrix\n",
    "\n",
    "#Load Smina results\n",
    "\n",
    "mols = io.loadallmols('{0}_docking.sdf'.format(pdb_code))\n",
    "\n",
    "for mol in mols:      #Remove the hydrogens from the poses to compare them with the reference which has no hydrogens\n",
    "    mol.strip()\n",
    "\n",
    "coords = [mol.coordinates for mol in mols]\n",
    "anum = mols[0].atomicnums\n",
    "adj = mols[0].adjacency_matrix"
   ]
  },
  {
   "cell_type": "code",
   "execution_count": null,
   "metadata": {
    "colab": {
     "base_uri": "https://localhost:8080/"
    },
    "id": "z-nQAuDWYnBz",
    "outputId": "e7248003-16a2-48f4-85c8-0f1f8694f396"
   },
   "outputs": [],
   "source": [
    "RMSD = rmsd.symmrmsd(coords_ref,coords,anum_ref,anum,adj_ref,adj)\n",
    "print(RMSD)"
   ]
  },
  {
   "cell_type": "markdown",
   "metadata": {
    "id": "sqxcwWbkY20M"
   },
   "source": [
    "## Flexible Receptor Docking with Smina\n",
    "* --flexdist_ligand $\\to$  Ligand reference to set flexible residues\n",
    "* --flexdist $\\to$ Distance from flexdist_ligand at which residues are considered as flexibles\n",
    "* With --flexres chain:residue $\\to$ you can select manually wich residues want to set as flexible\n",
    "* out_flex $\\to$ file with flexible residues of docking results\n",
    "* Recomendations:\n",
    "     * $\\to$ increase exhaustiveness\n",
    "     * $\\to$ scan flexres with flexdist_ligand and select residues of interest\n",
    "     * $\\to$ increase autobox_add (not very much)"
   ]
  },
  {
   "cell_type": "code",
   "execution_count": null,
   "metadata": {
    "colab": {
     "base_uri": "https://localhost:8080/"
    },
    "id": "oDVOBpxZY35d",
    "outputId": "f956abe5-cfc6-4b5d-d548-d000e6bc4cd9"
   },
   "outputs": [],
   "source": [
    "#Smina Flex Docking\n",
    "!./smina.static --cpu 12 --seed 0 --exhaustiveness 64 --flexdist_ligand 4BTK_ligand.pdbqt --flexdist 3 --autobox_add +7 --autobox_ligand 4BTK_ligand.pdbqt -r 4BTK_clean.pdbqt -l 4BTK_ligand.pdbqt -o 4BTK_flex_docking.sdf --out_flex 4BTK_flex_residues.pdb --log Flex_results.log"
   ]
  },
  {
   "cell_type": "code",
   "execution_count": null,
   "metadata": {
    "colab": {
     "base_uri": "https://localhost:8080/"
    },
    "id": "3ZM5JnembaTV",
    "outputId": "ddf19d45-5ae8-4086-d375-15132114574c"
   },
   "outputs": [],
   "source": [
    "!wget https://raw.githubusercontent.com/ramirezlab/WIKI/master/Docking_and_Virtual_Screening/Docking-SMINA/smina/run/makeflex.py"
   ]
  },
  {
   "cell_type": "markdown",
   "metadata": {
    "id": "SPQrP98Xh3BN"
   },
   "source": [
    "### Merge Flex Residues from docking to origen structure\n",
    "*Download makeflex.py with wget\n",
    "* Download makflex.py from https://github.com/gnina/gnina/blob/master/scripts/\n",
    "* Arguments:\n",
    "\n",
    "             rigidname = args.rigid\n",
    "\n",
    "             flexname  = args.flex\n",
    "             \n",
    "             outfile   = args.out"
   ]
  },
  {
   "cell_type": "code",
   "execution_count": null,
   "metadata": {
    "colab": {
     "base_uri": "https://localhost:8080/"
    },
    "id": "ibrwGIc1ZwwJ",
    "outputId": "4a4e603f-715b-484d-a7a4-29108b3bc397"
   },
   "outputs": [],
   "source": [
    "!python makeflex.py 4BTK_clean.pdb 4BTK_flex_residues.pdb 4BTK_merge.pdb"
   ]
  },
  {
   "cell_type": "code",
   "execution_count": null,
   "metadata": {
    "colab": {
     "base_uri": "https://localhost:8080/",
     "height": 549
    },
    "id": "eMziZsZL7_ps",
    "outputId": "8ea00e73-fe9d-48af-9627-b7deaa4dec27"
   },
   "outputs": [],
   "source": [
    "import py3Dmol\n",
    "\n",
    "#Parameters\n",
    "\n",
    "view = py3Dmol.view()\n",
    "view.removeAllModels()\n",
    "view.setViewStyle({'style':'outline','color':'black','width':0.1})\n",
    "\n",
    "#Protein with merged residues\n",
    "\n",
    "view.addModel(open('{0}_merge.pdb'.format(pdb_code),'r').read(),format='pdb')\n",
    "Prot=view.getModel()\n",
    "Prot.setStyle({'cartoon':{'arrows':True, 'tubes':True, 'style':'oval', 'color':'white'}})\n",
    "view.addSurface(py3Dmol.VDW,{'opacity':0.6,'color':'white'})\n",
    "\n",
    "#Reference Ligand\n",
    "\n",
    "view.addModel(open('{0}_ligand.pdb'.format(pdb_code),'r').read(),format='pdb')\n",
    "ref_m = view.getModel()\n",
    "ref_m.setStyle({},{'stick':{'colorscheme':'magentaCarbon','radius':0.2}})\n",
    "\n",
    "# Docking Results\n",
    "\n",
    "results=Chem.SDMolSupplier('{0}_flex_docking.sdf'.format(pdb_code))\n",
    "\n",
    "p=Chem.MolToMolBlock(results[1],False)\n",
    "\n",
    "print('Reference: Magenta | Smina Pose: Cyan | Smina Flexres: Yellow ')\n",
    "print ('Score: {}'.format(results[0].GetProp('minimizedAffinity')))\n",
    "\n",
    "view.addModel(p,'mol')\n",
    "x = view.getModel()\n",
    "x.setStyle({},{'stick':{'colorscheme':'cyanCarbon','radius':0.2}})\n",
    "\n",
    "#Flexible Residues\n",
    "\n",
    "view.addModel(open('{0}_flex_residues.pdb'.format(pdb_code),'r').read(),format='pdb')\n",
    "ref_m = view.getModel()\n",
    "ref_m.setStyle({},{'stick':{'colorscheme':'yellowCarbon','radius':0.2}})\n",
    "\n",
    "#Visualization\n",
    "view.zoomTo()\n",
    "view.animate({'loop': \"forward\"})\n",
    "view.rotate(-375,'y',1);\n",
    "view.rotate(250,'x',1);\n",
    "view.rotate(150,'z',1);\n",
    "view.center({'resn':'DTQ'})\n",
    "view.zoom(4,1)\n",
    "view.render()"
   ]
  },
  {
   "cell_type": "markdown",
   "metadata": {
    "id": "nibq4HgOK_qq"
   },
   "source": [
    "# RMSD measurement"
   ]
  },
  {
   "cell_type": "code",
   "execution_count": null,
   "metadata": {
    "id": "SOssztff9p3m"
   },
   "outputs": [],
   "source": [
    "from spyrmsd import io, rmsd\n",
    "\n",
    "view.zoomTo()\n",
    "view.rotate(480,'y',1);\n",
    "view.rotate(-270,'x',1);\n",
    "view.center({'resn':'40D'})\n",
    "view.zoom(6,1000)\n",
    "view.render()\n",
    "#Load Reference\n",
    "\n",
    "ref = io.loadmol('{0}_ligand.pdb'.format(pdb_code))\n",
    "\n",
    "coords_ref = ref.coordinates\n",
    "anum_ref = ref.atomicnums\n",
    "adj_ref = ref.adjacency_matrix\n",
    "\n",
    "#Load Smina results\n",
    "\n",
    "mols = io.loadallmols('{0}_flex_docking.sdf'.format(pdb_code))\n",
    "\n",
    "for mol in mols:      #Remove the hydrogens from the poses to compare them with the reference which has no hydrogens\n",
    "    mol.strip()\n",
    "\n",
    "coords = [mol.coordinates for mol in mols]\n",
    "anum = mols[0].atomicnums\n",
    "adj = mols[0].adjacency_matrix"
   ]
  },
  {
   "cell_type": "code",
   "execution_count": null,
   "metadata": {
    "colab": {
     "base_uri": "https://localhost:8080/"
    },
    "id": "wEqlBNci9t4k",
    "outputId": "a29abd95-2697-45b5-f495-4569a6fbc76f"
   },
   "outputs": [],
   "source": [
    "RMSD = rmsd.symmrmsd(coords_ref,coords,anum_ref,anum,adj_ref,adj)\n",
    "print(RMSD)"
   ]
  }
 ],
 "metadata": {
  "colab": {
   "provenance": []
  },
  "kernelspec": {
   "display_name": "Python 3 (ipykernel)",
   "language": "python",
   "name": "python3"
  },
  "language_info": {
   "codemirror_mode": {
    "name": "ipython",
    "version": 3
   },
   "file_extension": ".py",
   "mimetype": "text/x-python",
   "name": "python",
   "nbconvert_exporter": "python",
   "pygments_lexer": "ipython3",
   "version": "3.10.9"
  }
 },
 "nbformat": 4,
 "nbformat_minor": 4
}
